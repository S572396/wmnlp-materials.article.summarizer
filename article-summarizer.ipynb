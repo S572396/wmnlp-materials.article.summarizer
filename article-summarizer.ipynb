{
 "cells": [
  {
   "cell_type": "markdown",
   "metadata": {},
   "source": [
    "# Web Mining and Applied NLP (44-620)\n",
    "\n",
    "## Final Project: Article Summarizer \n",
    "\n",
    "### Student Name: SANDRA RUIZ\n",
    "\n",
    "Perform the tasks described in the Markdown cells below.  When you have completed the assignment make sure your code cells have all been run (and have output beneath them) and ensure you have committed and pushed ALL of your changes to your assignment repository.\n",
    "\n",
    "You should bring in code from previous assignments to help you answer the questions below.\n",
    "\n",
    "Every question that requires you to write code will have a code cell underneath it; you may either write your entire solution in that cell or write it in a python file (`.py`), then import and run the appropriate code to answer the question.\n",
    "\n",
    "URL: https://www.tdcj.texas.gov/death_row/dr_executed_offenders.html"
   ]
  },
  {
   "cell_type": "code",
   "execution_count": 2,
   "metadata": {},
   "outputs": [
    {
     "name": "stdout",
     "output_type": "stream",
     "text": [
      "Requirement already satisfied: matplotlib in c:\\users\\19564\\documents\\d7.ruiz\\.env\\lib\\site-packages (3.9.3)\n",
      "Requirement already satisfied: contourpy>=1.0.1 in c:\\users\\19564\\documents\\d7.ruiz\\.env\\lib\\site-packages (from matplotlib) (1.3.1)\n",
      "Requirement already satisfied: cycler>=0.10 in c:\\users\\19564\\documents\\d7.ruiz\\.env\\lib\\site-packages (from matplotlib) (0.12.1)\n",
      "Requirement already satisfied: fonttools>=4.22.0 in c:\\users\\19564\\documents\\d7.ruiz\\.env\\lib\\site-packages (from matplotlib) (4.55.0)\n",
      "Requirement already satisfied: kiwisolver>=1.3.1 in c:\\users\\19564\\documents\\d7.ruiz\\.env\\lib\\site-packages (from matplotlib) (1.4.7)\n",
      "Requirement already satisfied: numpy>=1.23 in c:\\users\\19564\\documents\\d7.ruiz\\.env\\lib\\site-packages (from matplotlib) (2.0.2)\n",
      "Requirement already satisfied: packaging>=20.0 in c:\\users\\19564\\documents\\d7.ruiz\\.env\\lib\\site-packages (from matplotlib) (24.2)\n",
      "Requirement already satisfied: pillow>=8 in c:\\users\\19564\\documents\\d7.ruiz\\.env\\lib\\site-packages (from matplotlib) (11.0.0)\n",
      "Requirement already satisfied: pyparsing>=2.3.1 in c:\\users\\19564\\documents\\d7.ruiz\\.env\\lib\\site-packages (from matplotlib) (3.2.0)\n",
      "Requirement already satisfied: python-dateutil>=2.7 in c:\\users\\19564\\documents\\d7.ruiz\\.env\\lib\\site-packages (from matplotlib) (2.9.0.post0)\n",
      "Requirement already satisfied: six>=1.5 in c:\\users\\19564\\documents\\d7.ruiz\\.env\\lib\\site-packages (from python-dateutil>=2.7->matplotlib) (1.16.0)\n",
      "Note: you may need to restart the kernel to use updated packages.\n",
      "Requirement already satisfied: spacy in c:\\users\\19564\\documents\\d7.ruiz\\.env\\lib\\site-packages (3.8.2)\n",
      "Requirement already satisfied: spacy-legacy<3.1.0,>=3.0.11 in c:\\users\\19564\\documents\\d7.ruiz\\.env\\lib\\site-packages (from spacy) (3.0.12)\n",
      "Requirement already satisfied: spacy-loggers<2.0.0,>=1.0.0 in c:\\users\\19564\\documents\\d7.ruiz\\.env\\lib\\site-packages (from spacy) (1.0.5)\n",
      "Requirement already satisfied: murmurhash<1.1.0,>=0.28.0 in c:\\users\\19564\\documents\\d7.ruiz\\.env\\lib\\site-packages (from spacy) (1.0.11)\n",
      "Requirement already satisfied: cymem<2.1.0,>=2.0.2 in c:\\users\\19564\\documents\\d7.ruiz\\.env\\lib\\site-packages (from spacy) (2.0.10)\n",
      "Requirement already satisfied: preshed<3.1.0,>=3.0.2 in c:\\users\\19564\\documents\\d7.ruiz\\.env\\lib\\site-packages (from spacy) (3.0.9)\n",
      "Requirement already satisfied: thinc<8.4.0,>=8.3.0 in c:\\users\\19564\\documents\\d7.ruiz\\.env\\lib\\site-packages (from spacy) (8.3.2)\n",
      "Requirement already satisfied: wasabi<1.2.0,>=0.9.1 in c:\\users\\19564\\documents\\d7.ruiz\\.env\\lib\\site-packages (from spacy) (1.1.3)\n",
      "Requirement already satisfied: srsly<3.0.0,>=2.4.3 in c:\\users\\19564\\documents\\d7.ruiz\\.env\\lib\\site-packages (from spacy) (2.4.8)\n",
      "Requirement already satisfied: catalogue<2.1.0,>=2.0.6 in c:\\users\\19564\\documents\\d7.ruiz\\.env\\lib\\site-packages (from spacy) (2.0.10)\n",
      "Requirement already satisfied: weasel<0.5.0,>=0.1.0 in c:\\users\\19564\\documents\\d7.ruiz\\.env\\lib\\site-packages (from spacy) (0.4.1)\n",
      "Requirement already satisfied: typer<1.0.0,>=0.3.0 in c:\\users\\19564\\documents\\d7.ruiz\\.env\\lib\\site-packages (from spacy) (0.14.0)\n",
      "Requirement already satisfied: tqdm<5.0.0,>=4.38.0 in c:\\users\\19564\\documents\\d7.ruiz\\.env\\lib\\site-packages (from spacy) (4.67.1)\n",
      "Requirement already satisfied: requests<3.0.0,>=2.13.0 in c:\\users\\19564\\documents\\d7.ruiz\\.env\\lib\\site-packages (from spacy) (2.32.3)\n",
      "Requirement already satisfied: pydantic!=1.8,!=1.8.1,<3.0.0,>=1.7.4 in c:\\users\\19564\\documents\\d7.ruiz\\.env\\lib\\site-packages (from spacy) (2.10.2)\n",
      "Requirement already satisfied: jinja2 in c:\\users\\19564\\documents\\d7.ruiz\\.env\\lib\\site-packages (from spacy) (3.1.4)\n",
      "Requirement already satisfied: setuptools in c:\\users\\19564\\documents\\d7.ruiz\\.env\\lib\\site-packages (from spacy) (75.6.0)\n",
      "Requirement already satisfied: packaging>=20.0 in c:\\users\\19564\\documents\\d7.ruiz\\.env\\lib\\site-packages (from spacy) (24.2)\n",
      "Requirement already satisfied: langcodes<4.0.0,>=3.2.0 in c:\\users\\19564\\documents\\d7.ruiz\\.env\\lib\\site-packages (from spacy) (3.5.0)\n",
      "Requirement already satisfied: numpy>=1.19.0 in c:\\users\\19564\\documents\\d7.ruiz\\.env\\lib\\site-packages (from spacy) (2.0.2)\n",
      "Requirement already satisfied: language-data>=1.2 in c:\\users\\19564\\documents\\d7.ruiz\\.env\\lib\\site-packages (from langcodes<4.0.0,>=3.2.0->spacy) (1.3.0)\n",
      "Requirement already satisfied: annotated-types>=0.6.0 in c:\\users\\19564\\documents\\d7.ruiz\\.env\\lib\\site-packages (from pydantic!=1.8,!=1.8.1,<3.0.0,>=1.7.4->spacy) (0.7.0)\n",
      "Requirement already satisfied: pydantic-core==2.27.1 in c:\\users\\19564\\documents\\d7.ruiz\\.env\\lib\\site-packages (from pydantic!=1.8,!=1.8.1,<3.0.0,>=1.7.4->spacy) (2.27.1)\n",
      "Requirement already satisfied: typing-extensions>=4.12.2 in c:\\users\\19564\\documents\\d7.ruiz\\.env\\lib\\site-packages (from pydantic!=1.8,!=1.8.1,<3.0.0,>=1.7.4->spacy) (4.12.2)\n",
      "Requirement already satisfied: charset-normalizer<4,>=2 in c:\\users\\19564\\documents\\d7.ruiz\\.env\\lib\\site-packages (from requests<3.0.0,>=2.13.0->spacy) (3.4.0)\n",
      "Requirement already satisfied: idna<4,>=2.5 in c:\\users\\19564\\documents\\d7.ruiz\\.env\\lib\\site-packages (from requests<3.0.0,>=2.13.0->spacy) (3.10)\n",
      "Requirement already satisfied: urllib3<3,>=1.21.1 in c:\\users\\19564\\documents\\d7.ruiz\\.env\\lib\\site-packages (from requests<3.0.0,>=2.13.0->spacy) (2.2.3)\n",
      "Requirement already satisfied: certifi>=2017.4.17 in c:\\users\\19564\\documents\\d7.ruiz\\.env\\lib\\site-packages (from requests<3.0.0,>=2.13.0->spacy) (2024.8.30)\n",
      "Requirement already satisfied: blis<1.1.0,>=1.0.0 in c:\\users\\19564\\documents\\d7.ruiz\\.env\\lib\\site-packages (from thinc<8.4.0,>=8.3.0->spacy) (1.0.1)\n",
      "Requirement already satisfied: confection<1.0.0,>=0.0.1 in c:\\users\\19564\\documents\\d7.ruiz\\.env\\lib\\site-packages (from thinc<8.4.0,>=8.3.0->spacy) (0.1.5)\n",
      "Requirement already satisfied: colorama in c:\\users\\19564\\documents\\d7.ruiz\\.env\\lib\\site-packages (from tqdm<5.0.0,>=4.38.0->spacy) (0.4.6)\n",
      "Requirement already satisfied: click>=8.0.0 in c:\\users\\19564\\documents\\d7.ruiz\\.env\\lib\\site-packages (from typer<1.0.0,>=0.3.0->spacy) (8.1.7)\n",
      "Requirement already satisfied: shellingham>=1.3.0 in c:\\users\\19564\\documents\\d7.ruiz\\.env\\lib\\site-packages (from typer<1.0.0,>=0.3.0->spacy) (1.5.4)\n",
      "Requirement already satisfied: rich>=10.11.0 in c:\\users\\19564\\documents\\d7.ruiz\\.env\\lib\\site-packages (from typer<1.0.0,>=0.3.0->spacy) (13.9.4)\n",
      "Requirement already satisfied: cloudpathlib<1.0.0,>=0.7.0 in c:\\users\\19564\\documents\\d7.ruiz\\.env\\lib\\site-packages (from weasel<0.5.0,>=0.1.0->spacy) (0.20.0)\n",
      "Requirement already satisfied: smart-open<8.0.0,>=5.2.1 in c:\\users\\19564\\documents\\d7.ruiz\\.env\\lib\\site-packages (from weasel<0.5.0,>=0.1.0->spacy) (7.0.5)\n",
      "Requirement already satisfied: MarkupSafe>=2.0 in c:\\users\\19564\\documents\\d7.ruiz\\.env\\lib\\site-packages (from jinja2->spacy) (3.0.2)\n",
      "Requirement already satisfied: marisa-trie>=1.1.0 in c:\\users\\19564\\documents\\d7.ruiz\\.env\\lib\\site-packages (from language-data>=1.2->langcodes<4.0.0,>=3.2.0->spacy) (1.2.1)\n",
      "Requirement already satisfied: markdown-it-py>=2.2.0 in c:\\users\\19564\\documents\\d7.ruiz\\.env\\lib\\site-packages (from rich>=10.11.0->typer<1.0.0,>=0.3.0->spacy) (3.0.0)\n",
      "Requirement already satisfied: pygments<3.0.0,>=2.13.0 in c:\\users\\19564\\documents\\d7.ruiz\\.env\\lib\\site-packages (from rich>=10.11.0->typer<1.0.0,>=0.3.0->spacy) (2.18.0)\n",
      "Requirement already satisfied: wrapt in c:\\users\\19564\\documents\\d7.ruiz\\.env\\lib\\site-packages (from smart-open<8.0.0,>=5.2.1->weasel<0.5.0,>=0.1.0->spacy) (1.17.0)\n",
      "Requirement already satisfied: mdurl~=0.1 in c:\\users\\19564\\documents\\d7.ruiz\\.env\\lib\\site-packages (from markdown-it-py>=2.2.0->rich>=10.11.0->typer<1.0.0,>=0.3.0->spacy) (0.1.2)\n",
      "Package            Version\n",
      "------------------ -----------\n",
      "annotated-types    0.7.0\n",
      "asttokens          3.0.0\n",
      "beautifulsoup4     4.12.3\n",
      "blis               1.0.1\n",
      "catalogue          2.0.10\n",
      "certifi            2024.8.30\n",
      "charset-normalizer 3.4.0\n",
      "click              8.1.7\n",
      "cloudpathlib       0.20.0\n",
      "colorama           0.4.6\n",
      "comm               0.2.2\n",
      "confection         0.1.5\n",
      "contourpy          1.3.1\n",
      "cycler             0.12.1\n",
      "cymem              2.0.10\n",
      "debugpy            1.8.9\n",
      "decorator          5.1.1\n",
      "executing          2.1.0\n",
      "fonttools          4.55.0\n",
      "idna               3.10\n",
      "ipykernel          6.29.5\n",
      "ipython            8.30.0\n",
      "jedi               0.19.2\n",
      "Jinja2             3.1.4\n",
      "jupyter_client     8.6.3\n",
      "jupyter_core       5.7.2\n",
      "kiwisolver         1.4.7\n",
      "langcodes          3.5.0\n",
      "language_data      1.3.0\n",
      "marisa-trie        1.2.1\n",
      "markdown-it-py     3.0.0\n",
      "MarkupSafe         3.0.2\n",
      "matplotlib         3.9.3\n",
      "matplotlib-inline  0.1.7\n",
      "mdurl              0.1.2\n",
      "murmurhash         1.0.11\n",
      "nest-asyncio       1.6.0\n",
      "numpy              2.0.2\n",
      "packaging          24.2\n",
      "parso              0.8.4\n",
      "pillow             11.0.0\n",
      "pip                24.3.1\n",
      "platformdirs       4.3.6\n",
      "preshed            3.0.9\n",
      "prompt_toolkit     3.0.48\n",
      "psutil             6.1.0\n",
      "pure_eval          0.2.3\n",
      "pydantic           2.10.2\n",
      "pydantic_core      2.27.1\n",
      "Pygments           2.18.0\n",
      "pyparsing          3.2.0\n",
      "python-dateutil    2.9.0.post0\n",
      "pywin32            308\n",
      "pyzmq              26.2.0\n",
      "requests           2.32.3\n",
      "rich               13.9.4\n",
      "setuptools         75.6.0\n",
      "shellingham        1.5.4\n",
      "six                1.16.0\n",
      "smart-open         7.0.5\n",
      "soupsieve          2.6\n",
      "spacy              3.8.2\n",
      "spacy-legacy       3.0.12\n",
      "spacy-loggers      1.0.5\n",
      "srsly              2.4.8\n",
      "stack-data         0.6.3\n",
      "thinc              8.3.2\n",
      "tornado            6.4.2\n",
      "tqdm               4.67.1\n",
      "traitlets          5.14.3\n",
      "typer              0.14.0\n",
      "typing_extensions  4.12.2\n",
      "urllib3            2.2.3\n",
      "wasabi             1.1.3\n",
      "wcwidth            0.2.13\n",
      "weasel             0.4.1\n",
      "wrapt              1.17.0\n",
      "All prereqs installed.\n"
     ]
    }
   ],
   "source": [
    "### Pre Set Up\n",
    "##### Create and activate a Python virtual environment. \n",
    "###### Before starting the project, try all these imports FIRST\n",
    "###### Address any errors you get running this code cell \n",
    "###### by installing the necessary packages into your active Python environment.\n",
    "##### Try to resolve issues using your materials and the web.\n",
    "###### If that doesn't work, ask for help in the discussion forums.\n",
    "###### You can't complete the exercises until you import these - start early! \n",
    "###### We also import pickle and Counter (included in the Python Standard Library).\n",
    "\n",
    "\n",
    "%pip install matplotlib\n",
    "!pip install spacy\n",
    "from collections import Counter\n",
    "import pickle\n",
    "import requests\n",
    "import spacy\n",
    "from bs4 import BeautifulSoup\n",
    "import matplotlib.pyplot as plt\n",
    "\n",
    "\n",
    "# List installed packages\n",
    "!pip list\n",
    "\n",
    "print('All prereqs installed.')"
   ]
  },
  {
   "cell_type": "markdown",
   "metadata": {},
   "source": [
    "1. Find on the internet an article or blog post about a topic that interests you and you are able to get the text for using the technologies we have applied in the course.  Get the html for the article and store it in a file (which you must submit with your project)"
   ]
  },
  {
   "cell_type": "code",
   "execution_count": 5,
   "metadata": {},
   "outputs": [
    {
     "name": "stderr",
     "output_type": "stream",
     "text": [
      "c:\\Users\\19564\\Documents\\D7.Ruiz\\.env\\Lib\\site-packages\\urllib3\\connectionpool.py:1099: InsecureRequestWarning: Unverified HTTPS request is being made to host 'www.tdcj.texas.gov'. Adding certificate verification is strongly advised. See: https://urllib3.readthedocs.io/en/latest/advanced-usage.html#tls-warnings\n",
      "  warnings.warn(\n"
     ]
    },
    {
     "name": "stdout",
     "output_type": "stream",
     "text": [
      "Page fetched successfully!\n",
      "Saved 591 records to 'executed_offenders.pkl'.\n"
     ]
    }
   ],
   "source": [
    "import requests\n",
    "from bs4 import BeautifulSoup\n",
    "import pickle\n",
    "\n",
    "# URL of the page to scrape\n",
    "url = \"https://www.tdcj.texas.gov/death_row/dr_executed_offenders.html\"\n",
    "\n",
    "# Fetch the page content (only once)\n",
    "response = requests.get(url, verify=False)\n",
    "if response.status_code == 200:\n",
    "    print(\"Page fetched successfully!\")\n",
    "    soup = BeautifulSoup(response.text, \"html.parser\")\n",
    "\n",
    "    # Extracting table rows (adjust selectors as needed)\n",
    "    table = soup.find(\"table\")\n",
    "    rows = table.find_all(\"tr\")[1:]  # Skip the header row\n",
    "\n",
    "    offenders = []\n",
    "    for row in rows:\n",
    "        columns = row.find_all(\"td\")\n",
    "        offender_data = [col.text.strip() for col in columns]\n",
    "        offenders.append(offender_data)\n",
    "\n",
    "    # Save to pickle file\n",
    "    with open(\"executed_offenders.pkl\", \"wb\") as f:\n",
    "        pickle.dump(offenders, f)\n",
    "\n",
    "    print(f\"Saved {len(offenders)} records to 'executed_offenders.pkl'.\")\n",
    "else:\n",
    "    print(f\"Failed to fetch page, status code: {response.status_code}\")\n",
    "\n",
    "\n"
   ]
  },
  {
   "cell_type": "markdown",
   "metadata": {},
   "source": [
    "2. Read in your article's html source from the file you created in question 1 and do sentiment analysis on the article/post's text (use `.get_text()`).  Print the polarity score with an appropriate label.  Additionally print the number of sentences in the original article (with an appropriate label)"
   ]
  },
  {
   "cell_type": "code",
   "execution_count": null,
   "metadata": {},
   "outputs": [
    {
     "name": "stderr",
     "output_type": "stream",
     "text": [
      "c:\\Users\\19564\\Documents\\D7.Ruiz\\.env\\Lib\\site-packages\\urllib3\\connectionpool.py:1099: InsecureRequestWarning: Unverified HTTPS request is being made to host 'www.tdcj.texas.gov'. Adding certificate verification is strongly advised. See: https://urllib3.readthedocs.io/en/latest/advanced-usage.html#tls-warnings\n",
      "  warnings.warn(\n"
     ]
    },
    {
     "name": "stdout",
     "output_type": "stream",
     "text": [
      "First 500 characters of the article:\n",
      "Death Row Information skip to main content Micro Focus Outage Micro Focus Outage Home | Intranet | Contact Link to Texas Department of Criminal Justice homepage search_input Home TDCJ Home How Do I…? News Online Services Inside TDCJ Information for Victims Career Opportunities Inmate Information Find a Facility Death Row Information Executed Inmates Executed Inmates Execution Link Link Last Name First Name TDCJNumber Age Date Race County 591 Inmate Information Last Statement White Garcia 999205 \n",
      "\n",
      "First 5 executed offenders:\n",
      "[['591', 'Inmate Information', 'Last Statement', 'White', 'Garcia', '999205', '61', '10/1/2024', 'Black', 'Harris'], ['590', 'Inmate Information', 'Last Statement', 'Mullis', 'Travis', '999563', '38', '9/24/2024', 'White', 'Galveston'], ['589', 'Inmate Information', 'Last Statement', 'Burton', 'Arthur', '999283', '44', '8/7/2024', 'Black', 'Harris'], ['588', 'Inmate Information', 'Last Statement', 'Gonzales', 'Ramiro', '999513', '41', '6/26/2024', 'Hispanic', 'Medina'], ['587', 'Inmate Information', 'Last Statement', 'Cantu', 'Ivan', '999399', '50', '2/28/2024', 'Hispanic', 'Collin']]\n",
      "\n",
      "Polarity Score: -0.034190066425120784\n",
      "The article has a negative sentiment.\n",
      "Number of sentences in the article: 110\n"
     ]
    }
   ],
   "source": [
    "import pickle\n",
    "import requests\n",
    "from bs4 import BeautifulSoup\n",
    "import spacy\n",
    "from textblob import TextBlob\n",
    "\n",
    "\n",
    "# Fetch the HTML content from the URL\n",
    "url = \"https://www.tdcj.texas.gov/death_row/dr_executed_offenders.html\"\n",
    "response = requests.get(url, verify=False)  # Add verify=False to disable SSL verification\n",
    "\n",
    "\n",
    "# Check if the request was successful\n",
    "if response.status_code == 200:\n",
    "    html_content = response.text\n",
    "else:\n",
    "    print(f\"Failed to retrieve the page. Status code: {response.status_code}\")\n",
    "    html_content = \"\"\n",
    "\n",
    "# Parse the HTML content using BeautifulSoup\n",
    "soup = BeautifulSoup(html_content, \"html.parser\")\n",
    "\n",
    "# Get the text content of the article \n",
    "text_content = soup.get_text()\n",
    "clean_text = \" \".join(text_content.split())  \n",
    "\n",
    "# Save the clean text to a .txt file\n",
    "with open(\"article_text.txt\", \"w\") as text_file:\n",
    "    text_file.write(clean_text)\n",
    "\n",
    "# Print the first 500 characters of the article\n",
    "print(\"First 500 characters of the article:\")\n",
    "print(clean_text[:500])\n",
    "\n",
    "# Perform sentiment analysis using TextBlob\n",
    "blob = TextBlob(clean_text)\n",
    "polarity_score = blob.sentiment.polarity\n",
    "\n",
    "# Load the pickle file containing executed offenders\n",
    "pickle_path = r'C:\\Users\\19564\\Documents\\D7.Ruiz\\wmnlp-materials.article.summarizer\\executed_offenders.pkl'\n",
    "\n",
    "with open(pickle_path, \"rb\") as file:\n",
    "    executed_offenders_data = pickle.load(file)\n",
    "\n",
    "# Print the first 5 offenders from the pickle data (assuming it's a list or dictionary)\n",
    "print(\"\\nFirst 5 executed offenders:\")\n",
    "print(executed_offenders_data[:5] if isinstance(executed_offenders_data, list) else executed_offenders_data)\n",
    "\n",
    "# Count the number of sentences in the article using spaCy\n",
    "nlp = spacy.load(\"en_core_web_sm\")\n",
    "doc = nlp(clean_text)\n",
    "num_sentences = len(list(doc.sents))\n",
    "\n",
    "# Print the sentiment analysis and sentence count\n",
    "print(\"\\nPolarity Score:\", polarity_score)\n",
    "if polarity_score > 0:\n",
    "    print(\"The article has a positive sentiment.\")\n",
    "elif polarity_score < 0:\n",
    "    print(\"The article has a negative sentiment.\")\n",
    "else:\n",
    "    print(\"The article has a neutral sentiment.\")\n",
    "\n",
    "print(f\"Number of sentences in the article: {num_sentences}\")\n",
    "\n",
    "# Save the sentiment analysis results to the .txt file\n",
    "with open(\"article_analysis.txt\", \"w\") as analysis_file:\n",
    "    analysis_file.write(f\"Polarity Score: {polarity_score}\\n\")\n",
    "    if polarity_score > 0:\n",
    "        analysis_file.write(\"The article has a positive sentiment.\\n\")\n",
    "    elif polarity_score < 0:\n",
    "        analysis_file.write(\"The article has a negative sentiment.\\n\")\n",
    "    else:\n",
    "        analysis_file.write(\"The article has a neutral sentiment.\\n\")\n",
    "    analysis_file.write(f\"Number of sentences in the article: {num_sentences}\\n\")\n",
    "\n",
    "\n",
    "\n",
    " "
   ]
  },
  {
   "cell_type": "markdown",
   "metadata": {},
   "source": [
    "3. Load the article text into a trained `spaCy` pipeline, and determine the 5 most frequent tokens (converted to lower case).  Print the common tokens with an appropriate label.  Additionally, print the tokens their frequencies (with appropriate labels)"
   ]
  },
  {
   "cell_type": "code",
   "execution_count": 26,
   "metadata": {},
   "outputs": [
    {
     "name": "stderr",
     "output_type": "stream",
     "text": [
      "c:\\Users\\19564\\Documents\\D7.Ruiz\\.env\\Lib\\site-packages\\urllib3\\connectionpool.py:1099: InsecureRequestWarning: Unverified HTTPS request is being made to host 'www.tdcj.texas.gov'. Adding certificate verification is strongly advised. See: https://urllib3.readthedocs.io/en/latest/advanced-usage.html#tls-warnings\n",
      "  warnings.warn(\n"
     ]
    },
    {
     "name": "stdout",
     "output_type": "stream",
     "text": [
      "The 5 most frequent tokens are:\n",
      "Token: \n",
      ", Frequency: 5301\n",
      "Token: information, Frequency: 595\n",
      "Token: inmate, Frequency: 592\n",
      "Token: statement, Frequency: 591\n",
      "Token: \n",
      "\n",
      ", Frequency: 394\n"
     ]
    }
   ],
   "source": [
    "import spacy\n",
    "import requests\n",
    "from bs4 import BeautifulSoup\n",
    "from collections import Counter\n",
    "\n",
    "# Load the pre-trained spaCy model (English model)\n",
    "nlp = spacy.load(\"en_core_web_sm\")\n",
    "\n",
    "# URL of the article\n",
    "url = \"https://www.tdcj.texas.gov/death_row/dr_executed_offenders.html\"\n",
    "response = requests.get(url, verify=False)  # Add verify=False to disable SSL verification\n",
    "\n",
    "\n",
    "# Parse the HTML using BeautifulSoup\n",
    "soup = BeautifulSoup(response.content, \"html.parser\")\n",
    "\n",
    "# Extract all text content from the HTML (e.g., from paragraphs)\n",
    "article_text = soup.get_text()\n",
    "\n",
    "# Process the article text with spaCy\n",
    "doc = nlp(article_text)\n",
    "\n",
    "# Extract tokens and convert them to lowercase (filter out stop words and punctuation)\n",
    "tokens = [token.text.lower() for token in doc if not token.is_stop and not token.is_punct]\n",
    "\n",
    "# Calculate frequencies of the tokens\n",
    "token_frequencies = Counter(tokens)\n",
    "\n",
    "# Get the 5 most frequent tokens\n",
    "most_common_tokens = token_frequencies.most_common(5)\n",
    "\n",
    "# Print the most frequent tokens and their frequencies\n",
    "print(\"The 5 most frequent tokens are:\")\n",
    "for token, freq in most_common_tokens:\n",
    "    print(f\"Token: {token}, Frequency: {freq}\")\n",
    "\n",
    "\n",
    "\n"
   ]
  },
  {
   "cell_type": "markdown",
   "metadata": {},
   "source": [
    "4. Load the article text into a trained `spaCy` pipeline, and determine the 5 most frequent lemmas (converted to lower case).  Print the common lemmas with an appropriate label.  Additionally, print the lemmas with their frequencies (with appropriate labels)."
   ]
  },
  {
   "cell_type": "code",
   "execution_count": null,
   "metadata": {},
   "outputs": [
    {
     "name": "stdout",
     "output_type": "stream",
     "text": [
      "The 5 most frequent lemmas are:\n",
      "Lemma: inmate, Frequency: 591\n",
      "Lemma: information, Frequency: 591\n",
      "Lemma: statement, Frequency: 591\n",
      "Lemma: white, Frequency: 268\n",
      "Lemma: black, Frequency: 213\n"
     ]
    }
   ],
   "source": [
    "import spacy\n",
    "import pickle\n",
    "from collections import Counter\n",
    "\n",
    "# Load the pre-trained spaCy model (English model)\n",
    "nlp = spacy.load(\"en_core_web_sm\")\n",
    "\n",
    "# Load the article text from the pickle file\n",
    "with open(r\"C:\\Users\\19564\\Documents\\D7.Ruiz\\wmnlp-materials.article.summarizer\\executed_offenders.pkl\", 'rb') as file:\n",
    "    article_text = pickle.load(file)\n",
    "\n",
    "# Flatten any nested lists and ensure all items are strings\n",
    "if isinstance(article_text, list):\n",
    "    # If any item in the list is a list, flatten it\n",
    "    article_text = ' '.join([str(item) for sublist in article_text for item in (sublist if isinstance(sublist, list) else [sublist])])\n",
    "\n",
    "# Process the article text with spaCy\n",
    "doc = nlp(article_text)\n",
    "\n",
    "# Extract the lemmas and convert them to lowercase \n",
    "lemmas = [token.lemma_.lower() for token in doc if not token.is_stop and not token.is_punct]\n",
    "\n",
    "# Calculate frequencies of the lemmas\n",
    "lemma_frequencies = Counter(lemmas)\n",
    "\n",
    "# Get the 5 most frequent lemmas\n",
    "most_common_lemmas = lemma_frequencies.most_common(5)\n",
    "\n",
    "# Print the most frequent lemmas and their frequencies\n",
    "print(\"The 5 most frequent lemmas are:\")\n",
    "for lemma, freq in most_common_lemmas:\n",
    "    print(f\"Lemma: {lemma}, Frequency: {freq}\") \n"
   ]
  },
  {
   "cell_type": "markdown",
   "metadata": {},
   "source": [
    "5. Make a list containing the scores (using tokens) of every sentence in the article, and plot a histogram with appropriate titles and axis labels of the scores. From your histogram, what seems to be the most common range of scores (put the answer in a comment after your code)?"
   ]
  },
  {
   "cell_type": "code",
   "execution_count": 37,
   "metadata": {},
   "outputs": [
    {
     "data": {
      "image/png": "[encoded data removed]",
      "text/plain": [
       "<Figure size 1000x600 with 1 Axes>"
      ]
     },
     "metadata": {},
     "output_type": "display_data"
    }
   ],
   "source": [
    "import spacy\n",
    "import pickle\n",
    "import matplotlib.pyplot as plt\n",
    "from collections import Counter\n",
    "\n",
    "# Load the spaCy model \n",
    "nlp = spacy.load(\"en_core_web_sm\")\n",
    "\n",
    "# Load the article text from a pickle file\n",
    "with open(r\"C:\\Users\\19564\\Documents\\D7.Ruiz\\wmnlp-materials.article.summarizer\\executed_offenders.pkl\", 'rb') as file:\n",
    "    article_text = pickle.load(file)\n",
    "\n",
    "# Flatten any nested lists and ensure all items are strings to analyze\n",
    "if isinstance(article_text, list):\n",
    "    article_text = ' '.join([str(item) for sublist in article_text for item in (sublist if isinstance(sublist, list) else [sublist])])\n",
    "\n",
    "# Process the article text with spaCy\n",
    "doc = nlp(article_text)\n",
    "\n",
    "# List to store the scores of each sentence\n",
    "sentence_scores = []\n",
    "\n",
    "# Calculate the score for each sentence (score is the number of tokens excluding stop words and punctuation)\n",
    "for sent in doc.sents:\n",
    "    # Count tokens in the sentence that are neither stop words nor punctuation\n",
    "    score = sum(1 for token in sent if not token.is_stop and not token.is_punct)\n",
    "    sentence_scores.append(score)\n",
    "\n",
    "# Plot the histogram of sentence scores\n",
    "plt.figure(figsize=(10,6))\n",
    "plt.hist(sentence_scores, bins=range(min(sentence_scores), max(sentence_scores) + 1, 1), edgecolor='black', width=7, color='lightblue')\n",
    "plt.gcf().set_facecolor('white')\n",
    "\n",
    "# Add titles and labels\n",
    "plt.title(\"Histogram of Sentence Scores (Number of Tokens per Sentence)\")\n",
    "plt.xlabel(\"Score (Number of tokens)\")\n",
    "plt.ylabel(\"Frequency\")\n",
    "\n",
    "# Display grid and show the plot\n",
    "plt.grid(True)\n",
    "plt.show()\n",
    "\n",
    "\n",
    "#### Most common range of scores is between 5 and 50 tokens.\n",
    "\n",
    "\n",
    "\n",
    "\n"
   ]
  },
  {
   "cell_type": "markdown",
   "metadata": {},
   "source": [
    "6. Make a list containing the scores (using lemmas) of every sentence in the article, and plot a histogram with appropriate titles and axis labels of the scores.  From your histogram, what seems to be the most common range of scores (put the answer in a comment after your code)?"
   ]
  },
  {
   "cell_type": "code",
   "execution_count": null,
   "metadata": {},
   "outputs": [],
   "source": []
  },
  {
   "cell_type": "markdown",
   "metadata": {},
   "source": [
    "7. Using the histograms from questions 5 and 6, decide a \"cutoff\" score for tokens and lemmas such that fewer than half the sentences would have a score greater than the cutoff score.  Record the scores in this Markdown cell\n",
    "\n",
    "* Cutoff Score (tokens): \n",
    "* Cutoff Score (lemmas):\n",
    "\n",
    "Feel free to change these scores as you generate your summaries.  Ideally, we're shooting for at least 6 sentences for our summary, but don't want more than 10 (these numbers are rough estimates; they depend on the length of your article)."
   ]
  },
  {
   "cell_type": "markdown",
   "metadata": {},
   "source": [
    "8. Create a summary of the article by going through every sentence in the article and adding it to an (initially) empty list if its score (based on tokens) is greater than the cutoff score you identified in question 8.  If your loop variable is named `sent`, you may find it easier to add `sent.text.strip()` to your list of sentences.  Print the summary (I would cleanly generate the summary text by `join`ing the strings in your list together with a space (`' '.join(sentence_list)`)."
   ]
  },
  {
   "cell_type": "code",
   "execution_count": null,
   "metadata": {},
   "outputs": [],
   "source": []
  },
  {
   "cell_type": "markdown",
   "metadata": {},
   "source": [
    "9. Print the polarity score of your summary you generated with the token scores (with an appropriate label). Additionally, print the number of sentences in the summarized article."
   ]
  },
  {
   "cell_type": "code",
   "execution_count": null,
   "metadata": {},
   "outputs": [],
   "source": []
  },
  {
   "cell_type": "markdown",
   "metadata": {},
   "source": [
    "10. Create a summary of the article by going through every sentence in the article and adding it to an (initially) empty list if its score (based on lemmas) is greater than the cutoff score you identified in question 8.  If your loop variable is named `sent`, you may find it easier to add `sent.text.strip()` to your list of sentences.  Print the summary (I would cleanly generate the summary text by `join`ing the strings in your list together with a space (`' '.join(sentence_list)`)."
   ]
  },
  {
   "cell_type": "code",
   "execution_count": null,
   "metadata": {},
   "outputs": [],
   "source": []
  },
  {
   "cell_type": "markdown",
   "metadata": {},
   "source": [
    "11. Print the polarity score of your summary you generated with the lemma scores (with an appropriate label). Additionally, print the number of sentences in the summarized article."
   ]
  },
  {
   "cell_type": "code",
   "execution_count": null,
   "metadata": {},
   "outputs": [],
   "source": []
  },
  {
   "cell_type": "markdown",
   "metadata": {},
   "source": [
    "12.  Compare your polarity scores of your summaries to the polarity scores of the initial article.  Is there a difference?  Why do you think that may or may not be?.  Answer in this Markdown cell.  "
   ]
  },
  {
   "cell_type": "markdown",
   "metadata": {},
   "source": [
    "13. Based on your reading of the original article, which summary do you think is better (if there's a difference).  Why do you think this might be?"
   ]
  }
 ],
 "metadata": {
  "kernelspec": {
   "display_name": ".env",
   "language": "python",
   "name": "python3"
  },
  "language_info": {
   "codemirror_mode": {
    "name": "ipython",
    "version": 3
   },
   "file_extension": ".py",
   "mimetype": "text/x-python",
   "name": "python",
   "nbconvert_exporter": "python",
   "pygments_lexer": "ipython3",
   "version": "3.12.2"
  }
 },
 "nbformat": 4,
 "nbformat_minor": 4
}
